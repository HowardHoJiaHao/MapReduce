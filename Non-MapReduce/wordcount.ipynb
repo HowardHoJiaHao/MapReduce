{
 "cells": [
  {
   "cell_type": "code",
   "execution_count": 3,
   "metadata": {},
   "outputs": [
    {
     "name": "stdout",
     "output_type": "stream",
     "text": [
      "Requirement already satisfied: pandas in c:\\users\\anson\\appdata\\local\\packages\\pythonsoftwarefoundation.python.3.11_qbz5n2kfra8p0\\localcache\\local-packages\\python311\\site-packages (2.2.2)\n",
      "Requirement already satisfied: numpy>=1.23.2 in c:\\users\\anson\\appdata\\local\\packages\\pythonsoftwarefoundation.python.3.11_qbz5n2kfra8p0\\localcache\\local-packages\\python311\\site-packages (from pandas) (2.0.1)\n",
      "Requirement already satisfied: python-dateutil>=2.8.2 in c:\\users\\anson\\appdata\\local\\packages\\pythonsoftwarefoundation.python.3.11_qbz5n2kfra8p0\\localcache\\local-packages\\python311\\site-packages (from pandas) (2.9.0.post0)\n",
      "Requirement already satisfied: pytz>=2020.1 in c:\\users\\anson\\appdata\\local\\packages\\pythonsoftwarefoundation.python.3.11_qbz5n2kfra8p0\\localcache\\local-packages\\python311\\site-packages (from pandas) (2024.1)\n",
      "Requirement already satisfied: tzdata>=2022.7 in c:\\users\\anson\\appdata\\local\\packages\\pythonsoftwarefoundation.python.3.11_qbz5n2kfra8p0\\localcache\\local-packages\\python311\\site-packages (from pandas) (2024.1)\n",
      "Requirement already satisfied: six>=1.5 in c:\\users\\anson\\appdata\\local\\packages\\pythonsoftwarefoundation.python.3.11_qbz5n2kfra8p0\\localcache\\local-packages\\python311\\site-packages (from python-dateutil>=2.8.2->pandas) (1.16.0)\n",
      "Note: you may need to restart the kernel to use updated packages.\n"
     ]
    },
    {
     "name": "stderr",
     "output_type": "stream",
     "text": [
      "\n",
      "[notice] A new release of pip is available: 24.0 -> 24.2\n",
      "[notice] To update, run: C:\\Users\\Anson\\AppData\\Local\\Microsoft\\WindowsApps\\PythonSoftwareFoundation.Python.3.11_qbz5n2kfra8p0\\python.exe -m pip install --upgrade pip\n"
     ]
    }
   ],
   "source": [
    "pip install pandas"
   ]
  },
  {
   "cell_type": "code",
   "execution_count": 4,
   "metadata": {},
   "outputs": [],
   "source": [
    "import pandas as pd"
   ]
  },
  {
   "cell_type": "code",
   "execution_count": 5,
   "metadata": {},
   "outputs": [
    {
     "name": "stderr",
     "output_type": "stream",
     "text": [
      "C:\\Users\\Anson\\AppData\\Local\\Temp\\ipykernel_22540\\3181517477.py:1: DtypeWarning: Columns (1,2,3,4,5,6,7,8,9,10,11,12) have mixed types. Specify dtype option on import or set low_memory=False.\n",
      "  df=pd.read_csv(r'Bitcoin_tweets.csv')\n"
     ]
    }
   ],
   "source": [
    "df=pd.read_csv(r'Bitcoin_tweets.csv')"
   ]
  },
  {
   "cell_type": "code",
   "execution_count": 6,
   "metadata": {},
   "outputs": [
    {
     "name": "stdout",
     "output_type": "stream",
     "text": [
      "                                  user_name    user_location  \\\n",
      "0                             DeSota Wilson      Atlanta, GA   \n",
      "1                                  CryptoND              NaN   \n",
      "2                                 Tdlmatias  London, England   \n",
      "3                      Crypto is the future              NaN   \n",
      "4  Alex Kirchmaier 🇦🇹🇸🇪 #FactsSuperspreader           Europa   \n",
      "\n",
      "                                    user_description         user_created  \\\n",
      "0  Biz Consultant, real estate, fintech, startups...  2009-04-26 20:05:09   \n",
      "1  😎 BITCOINLIVE is a Dutch platform aimed at inf...  2019-10-17 20:12:10   \n",
      "2  IM Academy : The best #forex, #SelfEducation, ...  2014-11-10 10:50:37   \n",
      "3  I will post a lot of buying signals for BTC tr...  2019-09-28 16:48:12   \n",
      "4  Co-founder @RENJERJerky | Forbes 30Under30 | I...  2016-02-03 13:15:55   \n",
      "\n",
      "  user_followers user_friends user_favourites user_verified  \\\n",
      "0         8534.0         7605            4838         False   \n",
      "1         6769.0         1532           25483         False   \n",
      "2          128.0          332             924         False   \n",
      "3          625.0          129              14         False   \n",
      "4         1249.0         1472           10482         False   \n",
      "\n",
      "                  date                                               text  \\\n",
      "0  2021-02-10 23:59:04  Blue Ridge Bank shares halted by NYSE after #b...   \n",
      "1  2021-02-10 23:58:48  😎 Today, that's this #Thursday, we will do a \"...   \n",
      "2  2021-02-10 23:54:48  Guys evening, I have read this article about B...   \n",
      "3  2021-02-10 23:54:33  $BTC A big chance in a billion! Price: \\487264...   \n",
      "4  2021-02-10 23:54:06  This network is secured by 9 508 nodes as of t...   \n",
      "\n",
      "                                    hashtags               source is_retweet  \n",
      "0                                ['bitcoin']      Twitter Web App      False  \n",
      "1  ['Thursday', 'Btc', 'wallet', 'security']  Twitter for Android      False  \n",
      "2                                        NaN      Twitter Web App      False  \n",
      "3         ['Bitcoin', 'FX', 'BTC', 'crypto']              dlvr.it      False  \n",
      "4                                    ['BTC']      Twitter Web App      False  \n"
     ]
    }
   ],
   "source": [
    "print(df.head())"
   ]
  },
  {
   "cell_type": "code",
   "execution_count": 7,
   "metadata": {},
   "outputs": [
    {
     "name": "stdout",
     "output_type": "stream",
     "text": [
      "Index(['user_name', 'user_location', 'user_description', 'user_created',\n",
      "       'user_followers', 'user_friends', 'user_favourites', 'user_verified',\n",
      "       'date', 'text', 'hashtags', 'source', 'is_retweet'],\n",
      "      dtype='object')\n"
     ]
    }
   ],
   "source": [
    "print(df.columns)"
   ]
  },
  {
   "cell_type": "code",
   "execution_count": 8,
   "metadata": {},
   "outputs": [],
   "source": [
    "def count_words(text):\n",
    "    if isinstance(text, str):\n",
    "        return len(text.split())\n",
    "    else:\n",
    "        return 0"
   ]
  },
  {
   "cell_type": "code",
   "execution_count": 9,
   "metadata": {},
   "outputs": [
    {
     "name": "stdout",
     "output_type": "stream",
     "text": [
      "Total word count for all rows: 117643294\n"
     ]
    }
   ],
   "source": [
    "# Define the word count function\n",
    "def count_words(text):\n",
    "    if isinstance(text, str):\n",
    "        return len(text.split())\n",
    "    else:\n",
    "        return 0\n",
    "\n",
    "# Apply the word count function to the \"text\" column\n",
    "df['word_count'] = df['text'].apply(count_words)\n",
    "\n",
    "# Calculate the total word count\n",
    "total_word_count = df['word_count'].sum()\n",
    "\n",
    "# Print the total word count\n",
    "print(f'Total word count for all rows: {total_word_count}')"
   ]
  },
  {
   "cell_type": "code",
   "execution_count": 10,
   "metadata": {},
   "outputs": [],
   "source": [
    "import pandas as pd\n",
    "from collections import Counter\n",
    "import string"
   ]
  },
  {
   "cell_type": "code",
   "execution_count": 13,
   "metadata": {},
   "outputs": [],
   "source": [
    "# Define the preprocess text function\n",
    "def preprocess_text(text):\n",
    "    if isinstance(text, str):\n",
    "        text = text.lower()\n",
    "        text = text.translate(str.maketrans('', '', string.punctuation))\n",
    "        return text\n",
    "    else:\n",
    "        return ''"
   ]
  },
  {
   "cell_type": "code",
   "execution_count": 21,
   "metadata": {},
   "outputs": [],
   "source": [
    "# Preprocess the \"text\" column\n",
    "df['processed_text'] = df['text'].apply(preprocess_text)"
   ]
  },
  {
   "cell_type": "code",
   "execution_count": 1,
   "metadata": {},
   "outputs": [],
   "source": [
    "# Define the list of stop words\n",
    "stop_words = set(['the', 'a', 'an', 'in', 'on', 'and', 'is', 'of', 'to', 'for', 'with', 'at', 'by', 'from', 'that', 'this', 'it', 'as', 'be', 'are', 'i', 'you', 'will', 'we', 'has', 'have', 'not'])"
   ]
  },
  {
   "cell_type": "code",
   "execution_count": 22,
   "metadata": {},
   "outputs": [
    {
     "name": "stdout",
     "output_type": "stream",
     "text": [
      "Top 10 words without articles: [('bitcoin', 3755114), ('btc', 2948082), ('crypto', 1492078), ('eth', 1016953), ('cryptocurrency', 776951), ('price', 685214), ('ethereum', 583669), ('project', 525078), ('bnb', 481097), ('binance', 471869)]\n"
     ]
    }
   ],
   "source": [
    "# Define the function to count word frequency incrementally\n",
    "def count_word_frequency(texts, stop_words):\n",
    "    word_counts = Counter()\n",
    "    for text in texts:\n",
    "        words = text.split()\n",
    "        filtered_words = [word for word in words if word not in stop_words]\n",
    "        word_counts.update(filtered_words)\n",
    "    return word_counts\n",
    "\n",
    "# Get the word counts excluding stop words incrementally\n",
    "word_counts = count_word_frequency(df['processed_text'], stop_words)\n",
    "\n",
    "# Define the function to get top n words\n",
    "def get_top_n_words(word_counts, n=10):\n",
    "    return word_counts.most_common(n)\n",
    "\n",
    "# Get the top 10 words\n",
    "top_10_words = get_top_n_words(word_counts)\n",
    "\n",
    "# Print the top 10 words\n",
    "print(\"Top 10 words without articles:\", top_10_words)"
   ]
  }
 ],
 "metadata": {
  "kernelspec": {
   "display_name": "Python 3",
   "language": "python",
   "name": "python3"
  },
  "language_info": {
   "codemirror_mode": {
    "name": "ipython",
    "version": 3
   },
   "file_extension": ".py",
   "mimetype": "text/x-python",
   "name": "python",
   "nbconvert_exporter": "python",
   "pygments_lexer": "ipython3",
   "version": "3.11.9"
  }
 },
 "nbformat": 4,
 "nbformat_minor": 2
}
